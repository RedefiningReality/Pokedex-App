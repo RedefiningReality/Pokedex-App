{
 "cells": [
  {
   "cell_type": "code",
   "execution_count": 8,
   "id": "b744e02b",
   "metadata": {},
   "outputs": [],
   "source": [
    "import json\n",
    "\n",
    "def get_abilities(pokemonId):\n",
    "    with open ('json File folder/' + str(pokemonId) + '.json', \"r\") as pokemonFile:\n",
    "        pokemonJson = json.loads(pokemonFile.read())\n",
    "        return [a[\"ability\"][\"name\"] for a in pokemonJson[\"abilities\"]]"
   ]
  },
  {
   "cell_type": "code",
   "execution_count": 13,
   "id": "3219d838",
   "metadata": {},
   "outputs": [
    {
     "data": {
      "text/plain": [
       "['shed-skin']"
      ]
     },
     "execution_count": 13,
     "metadata": {},
     "output_type": "execute_result"
    }
   ],
   "source": [
    "get_abilities(11)"
   ]
  },
  {
   "cell_type": "code",
   "execution_count": 14,
   "id": "a596e61f",
   "metadata": {},
   "outputs": [],
   "source": [
    "def get_stats(pokemonId):\n",
    "    with open ('json File folder/' + str(pokemonId) + '.json', \"r\") as pokemonFile:\n",
    "        pokemonJson = json.loads(pokemonFile.read())\n",
    "        return [a[\"base_stat\"] for a in pokemonJson[\"stats\"]]"
   ]
  },
  {
   "cell_type": "code",
   "execution_count": 17,
   "id": "33f8a853",
   "metadata": {},
   "outputs": [
    {
     "data": {
      "text/plain": [
       "[45, 30, 35, 20, 20, 45]"
      ]
     },
     "execution_count": 17,
     "metadata": {},
     "output_type": "execute_result"
    }
   ],
   "source": [
    "get_stats(10)"
   ]
  },
  {
   "cell_type": "code",
   "execution_count": null,
   "id": "292e7ea9",
   "metadata": {},
   "outputs": [],
   "source": []
  }
 ],
 "metadata": {
  "kernelspec": {
   "display_name": "Python 3",
   "language": "python",
   "name": "python3"
  },
  "language_info": {
   "codemirror_mode": {
    "name": "ipython",
    "version": 3
   },
   "file_extension": ".py",
   "mimetype": "text/x-python",
   "name": "python",
   "nbconvert_exporter": "python",
   "pygments_lexer": "ipython3",
   "version": "3.8.8"
  }
 },
 "nbformat": 4,
 "nbformat_minor": 5
}
